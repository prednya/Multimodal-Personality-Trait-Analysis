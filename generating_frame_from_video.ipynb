{
  "nbformat": 4,
  "nbformat_minor": 0,
  "metadata": {
    "colab": {
      "provenance": []
    },
    "kernelspec": {
      "name": "python3",
      "display_name": "Python 3"
    },
    "language_info": {
      "name": "python"
    }
  },
  "cells": [
    {
      "cell_type": "code",
      "execution_count": null,
      "metadata": {
        "id": "k8Oao3wklrbq"
      },
      "outputs": [],
      "source": [
        "import cv2\n",
        "import os\n",
        "\n",
        "def process_videos_in_folder(old_folder_path,new_folder_path):\n",
        "    # Loop through all files in the folder\n",
        "    for filename in os.listdir(old_folder_path):\n",
        "        # Check if the current file is a video file\n",
        "        if not filename.lower().endswith((\".mp4\")):\n",
        "            continue\n",
        "\n",
        "        # Path to the current video file\n",
        "        video_path = os.path.join(old_folder_path, filename)\n",
        "\n",
        "        # Name of the current video file\n",
        "        video_name = os.path.splitext(filename)[0]\n",
        "\n",
        "        # Path to the folder where the frames will be saved\n",
        "        output_path = new_folder_path\n",
        "\n",
        "        # Create the output folder if it doesn't already exist\n",
        "        if not os.path.exists(output_path):\n",
        "            os.makedirs(output_path)\n",
        "\n",
        "        # Read the video file\n",
        "        cap = cv2.VideoCapture(video_path)\n",
        "\n",
        "        # Get the total number of frames in the video\n",
        "        num_frames = 30 #int(cap.get(cv2.CAP_PROP_FRAME_COUNT))\n",
        "\n",
        "        # Loop through each frame and save it as an image\n",
        "        for i in range(num_frames):\n",
        "            # Set the current frame number\n",
        "            cap.set(cv2.CAP_PROP_POS_FRAMES, i)\n",
        "\n",
        "            # Read the current frame\n",
        "            ret, frame = cap.read()\n",
        "\n",
        "            # Construct the output filename for the current frame\n",
        "            output_filename = f\"{video_name}_{i}.jpg\"\n",
        "\n",
        "            # Save the current frame as an image\n",
        "            cv2.imwrite(os.path.join(output_path, output_filename), frame)\n",
        "\n",
        "        # Release the video capture object\n",
        "        cap.release()\n",
        "\n",
        "#process_videos_in_folder(\"/content/drive/MyDrive/IP/video_train_test/train/agreeableness\",\"/content/drive/MyDrive/IP/image_train_test/train/agreeableness\")\n",
        "#process_videos_in_folder(\"/content/drive/MyDrive/IP/video_train_test/train/conscientiousness\",\"/content/drive/MyDrive/IP/image_train_test/train/conscientiousness\")\n",
        "#process_videos_in_folder(\"/content/drive/MyDrive/IP/video_train_test/train/extraversion\",\"/content/drive/MyDrive/IP/image_train_test/train/extraversion\")\n",
        "#process_videos_in_folder(\"/content/drive/MyDrive/IP/video_train_test/train/neuroticism\",\"/content/drive/MyDrive/IP/image_train_test/train/neuroticism\")\n",
        "#process_videos_in_folder(\"/content/drive/MyDrive/IP/video_train_test/train/openness\",\"/content/drive/MyDrive/IP/image_train_test/train/openness\")\n",
        "\n",
        "process_videos_in_folder(\"/content/drive/MyDrive/IP/video_train_test/test/agreeableness\",\"/content/drive/MyDrive/IP/image_train_test/test/agreeableness\")\n",
        "process_videos_in_folder(\"/content/drive/MyDrive/IP/video_train_test/test/conscientiousness\",\"/content/drive/MyDrive/IP/image_train_test/test/conscientiousness\")\n",
        "process_videos_in_folder(\"/content/drive/MyDrive/IP/video_train_test/test/extraversion\",\"/content/drive/MyDrive/IP/image_train_test/test/extraversion\")\n",
        "process_videos_in_folder(\"/content/drive/MyDrive/IP/video_train_test/test/neuroticism\",\"/content/drive/MyDrive/IP/image_train_test/test/neuroticism\")\n",
        "process_videos_in_folder(\"/content/drive/MyDrive/IP/video_train_test/test/openness\",\"/content/drive/MyDrive/IP/image_train_test/test/openness\")\n",
        "\n"
      ]
    }
  ]
}