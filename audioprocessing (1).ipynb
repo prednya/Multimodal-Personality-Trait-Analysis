{
  "nbformat": 4,
  "nbformat_minor": 0,
  "metadata": {
    "colab": {
      "provenance": []
    },
    "kernelspec": {
      "name": "python3",
      "display_name": "Python 3"
    },
    "language_info": {
      "name": "python"
    }
  },
  "cells": [
    {
      "cell_type": "code",
      "source": [
        "!pip install subprocess.run\n",
        "!pip install pydub"
      ],
      "metadata": {
        "id": "EcjOX2VJ2Y1C"
      },
      "execution_count": null,
      "outputs": []
    },
    {
      "cell_type": "code",
      "execution_count": null,
      "metadata": {
        "id": "5YlZfeLUi3wk"
      },
      "outputs": [],
      "source": [
        "import librosa\n",
        "import pandas as pd\n",
        "import numpy as np\n",
        "import matplotlib.pyplot as plt\n",
        "%matplotlib inline\n",
        "import os\n",
        "import zipfile\n",
        "import csv"
      ]
    },
    {
      "cell_type": "code",
      "source": [
        "path = \"/content/drive/MyDrive/IP/video_train_test\"\n",
        "path1 = \"/content/drive/MyDrive/IP/audio_train_test\""
      ],
      "metadata": {
        "id": "-wyPiSb6kcTY"
      },
      "execution_count": null,
      "outputs": []
    },
    {
      "cell_type": "code",
      "source": [
        "k=0\n",
        "entries=os.listdir(path)\n",
        "#print(entries)\n",
        "for entry in entries:\n",
        "  # print(entry+\"\\t\")\n",
        "  for pfolders in os.listdir(path+'/'+entry+'/'):\n",
        "    # print(pfolders+\" \")\n",
        "    for file_name in os.listdir(path+'/'+entry+'/'+pfolders+'/'):\n",
        "      mp4_file = path+'/'+entry+'/'+pfolders+'/'+file_name\n",
        "      # print(mp4_file)\n",
        "      wav_file = path1+'/'+entry+'/'+pfolders+'/'+file_name.split(\".mp4\")[0]+'.wav'\n",
        "      if not os.path.isdir(path1+'/'+entry+'/'+pfolders+'/'):\n",
        "        os.makedirs(path1+'/'+entry+'/'+pfolders+'/')\n",
        "\n",
        "      audio = AudioSegment.from_file(mp4_file, format=\"mp4\")\n",
        "      # # export the audio as WAV\n",
        "      audio.export(wav_file, format=\"wav\")\n",
        "      # print(file_name)\n"
      ],
      "metadata": {
        "id": "3sDWO8oekGEt"
      },
      "execution_count": null,
      "outputs": []
    },
    {
      "cell_type": "code",
      "source": [
        "from pydub import AudioSegment\n",
        "\n",
        "# input file path\n",
        "mp4_file = f\"/content/drive/MyDrive/IP/video_train_test/test/neuroticism/5uFZ-2kYGO0.000.mp4\"\n",
        "\n",
        "# output file path\n",
        "wav_file = \"/content/drive/MyDrive/IP/audio_train_test/djfkdh.wav\"\n",
        "\n",
        "# load the MP4 file\n",
        "audio = AudioSegment.from_file(mp4_file, format=\"mp4\")\n",
        "\n",
        "# export the audio as WAV\n",
        "audio.export(wav_file, format=\"wav\")"
      ],
      "metadata": {
        "id": "DrhBlet6zxnT"
      },
      "execution_count": null,
      "outputs": []
    },
    {
      "cell_type": "code",
      "source": [
        "import os\n",
        "import librosa, librosa.display\n",
        "import matplotlib.pyplot as plt\n",
        "import math"
      ],
      "metadata": {
        "id": "K1FHkyTBrU8K"
      },
      "execution_count": null,
      "outputs": []
    },
    {
      "cell_type": "code",
      "source": [
        "path = '/content/drive/MyDrive/IP/audio_train_test'\n",
        "path1 = \"/content/drive/MyDrive/IP/spectograpgh_train_test\"\n",
        "\n",
        "if not os.path.exists(path1):\n",
        "    os.makedirs(path1)\n",
        "for validation in os.listdir(path):\n",
        "  # print(\"valid\",validation)\n",
        "  if not os.path.exists(path1+'/'+validation):\n",
        "    os.makedirs(path1+'/'+validation)\n",
        "  for cat in os.listdir(path+'/'+validation+'/'):\n",
        "    if not os.path.exists(path1+'/'+validation+'/'+cat):\n",
        "      os.makedirs(path1+'/'+validation+'/'+cat)\n",
        "      # print(\"cat\",cat)\n",
        "    for file in os.listdir(path+'/'+validation+'/'+cat):\n",
        "        # print(\"file\",file)\n",
        "        if not os.path.exists(path1+'/'+validation+'/'+cat):\n",
        "          os.makedirs(path1+'/'+validation+'/'+cat)\n",
        "        signal, sr = librosa.load(f'{path}/{validation}/{cat}/{file}', sr=22050)\n",
        "        size = signal.shape[0]\n",
        "        start = 0\n",
        "        end = start + (size//5) #dividing the sound into 5 parts for more accuracy\n",
        "        for i in range(5):\n",
        "            part_of_signal = signal[start:end]\n",
        "            mfcc = librosa.feature.mfcc(part_of_signal,\n",
        "                        n_fft=2048,\n",
        "                        hop_length=512,\n",
        "                        n_mfcc=13)\n",
        "            librosa.display.specshow(mfcc, sr=sr, hop_length=512)\n",
        "            plt.savefig(f'{path1}/{validation}/{cat}/{file[:-4] +\"_\"+ str(i)}.png')\n",
        "            start = end\n",
        "            end = start + (size//5)"
      ],
      "metadata": {
        "id": "iyaIuV_Kr3mQ"
      },
      "execution_count": null,
      "outputs": []
    },
    {
      "cell_type": "code",
      "source": [
        "for root, folders, files in os.walk('/content/drive/MyDrive/IP/audio_train_test'):\n",
        "  print(root,folders,files)"
      ],
      "metadata": {
        "colab": {
          "base_uri": "https://localhost:8080/"
        },
        "id": "CCr127OgsY_B",
        "outputId": "325b9b72-5223-4a28-f4d5-b464ed9df548"
      },
      "execution_count": null,
      "outputs": [
        {
          "output_type": "stream",
          "name": "stdout",
          "text": [
            "/content/drive/MyDrive/IP/audio_train_test ['.ipynb_checkpoints', 'train', 'test'] []\n",
            "/content/drive/MyDrive/IP/audio_train_test/.ipynb_checkpoints [] []\n",
            "/content/drive/MyDrive/IP/audio_train_test/train ['openness', 'agreeableness', 'conscientiousness', 'extraversion', 'neuroticism'] []\n",
            "/content/drive/MyDrive/IP/audio_train_test/train/openness [] ['Z9GzSxQHKSI.001.wav', 'o6JCQlOC3oE.002.wav', 'hOXvRgxjfik.001.wav', 'LGPm8ok6kVo.001.wav', 'dd0z9mErfSo.002.wav', '45SH4ohAH3M.005.wav', 'R42dmIPCXwo.001.wav', 'sntohi33U5s.001.wav', 'D_FGBb-1B1o.002.wav', 'EmGTj1DRMbo.003.wav', 'HUJt0I1UKzo.000.wav', 'w989xx44UQI.001.wav', '184MlJCcboQ.000.wav', '3GylAjrajHs.004.wav', 'Jf8lqSpAjZ8.004.wav', 'APqMkruLkoE.004.wav', 'Jhz5ssCKaug.001.wav', 'aLAqJkRWKuk.002.wav', 'bzaOB8BoWPU.003.wav', 'RvoxbgEP49Q.005.wav', 'gipWTZy9mjI.002.wav', 'f4rQJiW6oSk.005.wav', '62ngcaBjRCY.005.wav', 'HEHMW0uiFa4.002.wav', 'Vj-Cmtqv_qY.001.wav', 'qmiBcHJpKR0.003.wav', 'hOXvRgxjfik.004.wav', 'HJkoeB_F4c4.001.wav', 'fBMKlYUjA9E.003.wav', 'UOvgGSx9k_k.002.wav', '7IegDaeNlik.003.wav', '8lg8A_zFOmg.000.wav', 'Q2AI4XpApFs.001.wav', 'x6Tluj4dJTU.002.wav', 'zT_s9X21gAE.005.wav', 'LBrmHHzyIiY.002.wav', 'MD9yyz-OSRs.002.wav', 'JzXnxQDnwWE.002.wav', '9sfpnlBRCl0.000.wav', 'B2q0gbLVeck.000.wav', 'Xfmu-7JuDGg.004.wav', 'd4cPiUXpGbc.005.wav', 'i1cAYtXA2Xs.002.wav', 'VA5XjOaBH0Y.000.wav', 'cnsvc0alWOA.004.wav', 'kKRc2aXzQyM.004.wav', 'nZz1hK90gwA.002.wav', 'RthpiC1KtSg.000.wav', 'ZhPQrqxo2mw.000.wav', 'XfK7WZ3skUM.001.wav', 'sNPK8f4FSfo.001.wav', 'C8xZ0vhrrFE.002.wav', '4lyKh2_xCDQ.004.wav', '9cj8rrj1wSk.000.wav', 'ApPnsnIZozw.005.wav', 'yBlPsPBRv5E.002.wav', 'VvSk5m90xOs.000.wav', 'eXtskPoi58A.001.wav', 'nUazOUcW_AM.005.wav', 'modNfUPt3F4.000.wav', 'iWyAQkMVNfM.003.wav', 'og8vtyRh_bc.000.wav', '_7s27dUoYVg.000.wav', 'bYXRyimxh7A.002.wav', 'ZeGT9pSG734.003.wav', 'QsUj_OlGQ-0.005.wav', 'Psahy1Vju4A.002.wav', 'OWZ-qVZG14A.003.wav', 'bFwtVtZodIg.004.wav', 'QiPb8vlGDFo.001.wav', 'kUv0BJQmKq0.001.wav', 'ixPqs7L8oAE.005.wav', '3AyjQQYmqU4.000.wav', 'zFVjcb45pjI.002.wav', 'puLXzqUvm_U.003.wav', 'Z_STuUHKQTg.003.wav', '-DOqN0d8KHw.003.wav', 'sqnW6xXYTKg.002.wav', 'B3VQeeev0r0.001.wav', 'HUHFlCs3YJ8.003.wav', 'r93dLeVRk3U.003.wav', 'dmOKZLeFKCM.004.wav', 'KhMsmtSC5Lg.005.wav', 'DVh_7dO2cWY.003.wav', '5kwoq4EZixQ.003.wav', 'htH89DBizno.002.wav', '7nhJXn9PI0I.004.wav', 'VTv4BAYgJpk.001.wav', 'C8xZ0vhrrFE.003.wav', 'uwUkp63db18.004.wav', 'fk_ggmC872E.000.wav', 'GyLjVOVPGKQ.001.wav', 'iiW_nu6JITY.004.wav', '-IK--4uz5ZY.004.wav', 'evrzg3Pzyc0.002.wav', 'AotbiNsU85A.002.wav', 'm536hegSuKI.004.wav', 'EffEoI1l1zE.002.wav', 'pzfDth6nFQE.005.wav', 'xHb5_bc1JOA.003.wav', 'US4PxgfKDeA.003.wav', 'RthpiC1KtSg.003.wav', 'shQmRW4CrGE.000.wav', 'IFXaH_E54iA.002.wav', 'y4Ej1YSEQf0.002.wav', 'vE9XgQL7DGE.003.wav', 'eRRCer7epnA.005.wav', 'dkhnv1EBvKI.005.wav', '_RAGzfJnpUE.001.wav', 'vYkHHVeNK_M.003.wav', '7MwZm3mhSA8.004.wav', 'LuLUAwn0aWU.004.wav', 'tOifNTq8jPw.005.wav', 'a-nUsP7oETI.000.wav', '2oEUp9sGRGk.000.wav', '4JYmE9a21aI.002.wav', '1mdMhaq5p4w.004.wav', 'hquzfo9MVDo.002.wav', 'K9h_wA30XgM.002.wav', 'IQNNEfYYYiw.005.wav', 'SgzOYog1pH4.003.wav', 'g7sDGH8APwk.000.wav', '3Q3SB1dVAng.002.wav', 'io0aNQE8En8.003.wav', 'TJD__22fOr0.000.wav', '_RAGzfJnpUE.003.wav', 'NI-tZF3gfes.004.wav', 'esjSS0xsHFA.002.wav', 'dJlEHhyij5k.001.wav', 'TaTMtWvSmu4.003.wav', 'erJNMcO69Eo.002.wav', '5hFRSHAis2E.003.wav', 'DWVJXufR7gE.001.wav', 'n5Jeeqfj2_U.005.wav', '3df_Uk9EmwU.004.wav', 'BSkTPW_Qsio.001.wav', 'tEQEKN07KgQ.003.wav', '3LAaFUSGvsU.001.wav', 'kDP6_hiBR0o.005.wav', 'E6rptSS3kP4.000.wav', 'PTV5TBVRHxo.000.wav', '-fqiCqZtgYs.002.wav', '3DURnr95fMg.004.wav', 'r9TaaVTo8Y8.002.wav', 'qcq5oIRJFUI.004.wav', 'DvmzcQI5cnM.001.wav', '9QOFKbaPX3M.000.wav', 'BLKXsX7-WIg.000.wav', 'Bo-mrL28d8M.003.wav', '2mfmw63l88g.005.wav', 'iGlLSkRAsJc.000.wav', 'On2c_8sU8Vw.001.wav', 'm536hegSuKI.002.wav', 'mY1ZTvNVkSA.002.wav', '7PYAn9njCHI.004.wav', '59Smv7wl--w.001.wav', 'PWAe9M2SxT8.001.wav', 'PuVy3akfzNI.002.wav', 'g0PWBzU95sI.001.wav', 'OMHlfDF99Mw.000.wav', '4V7doeEKsus.002.wav', 'J8YpOUmN_aI.005.wav', '84Lz5a9yRZg.002.wav', 't0_DAgeU4nM.003.wav', '39BJkEXJpgc.001.wav', '0FVu7VKIg2s.000.wav', 'JEualxMkaE4.003.wav', 'TaL5JleXDP8.003.wav', 'MOobNUpfWiY.000.wav', 'gLtvOEy7m8Q.005.wav', 'g8rjtlzAQ6k.003.wav', 's3m8DgUi6GM.001.wav', 'Vy-Lr_iM5qo.001.wav', '5z4G0biL9B4.003.wav', 'X1EjfXX3NTk.003.wav', 'OgPC4wnLJR0.001.wav', '0fMw9o1v2tY.001.wav', '-Gl98Jn45Fs.003.wav', 'h9jIdLBaMEo.000.wav', 'kn6I8LdQFN0.004.wav', 'si_gZCrLa4A.005.wav', 'Vk3scj5vhd4.004.wav', 'OXkDmd3nA94.000.wav', '69BopbFc34U.004.wav', 'PYYC0Jiwfdg.000.wav', 'GwKmjEb3qN0.001.wav', '78zauTEQ-k8.001.wav', 'JO44XCaQGVY.000.wav', 'dNXqs5HNijI.004.wav', 'pT8nyxks1Q4.005.wav', 'PTV5TBVRHxo.002.wav', 'u50B6bIkN9g.002.wav', '8i7H-uSCQcc.004.wav', '5kY-Iv6UkeU.003.wav', '6TkMavTyimI.000.wav', 'OACoHiwOdXQ.005.wav', 'ZiKxJbVI5_g.004.wav', 'kdPRPO3wgg0.004.wav', 's-jZlMKQGwc.002.wav', '6waL_gUxtAM.000.wav', 'Qz_cjgCtDcM.005.wav', '53srfuqv9LM.002.wav', 'Rwsss8y1bf0.004.wav', 'Hm5K_K0v718.000.wav', 'XRoSKIIFp9c.003.wav', 'gZblxCs4EV4.001.wav', 'kY_4WyAXxrQ.003.wav', '-Wqk9eex6bQ.004.wav', 'frsDpQjmC5k.002.wav', '7IegDaeNlik.005.wav', 'U9NlCSah83U.001.wav', 'K-iwJMxjyx4.005.wav', '9eNHxfOV2Kg.002.wav', 'VTv4BAYgJpk.005.wav', '6-O-HJf6OZI.002.wav', 'OXkDmd3nA94.004.wav', 'cP_dSXql7z8.003.wav', 'vJDx6TCX32M.001.wav', '4lH5nLSwmoM.001.wav', 'Psahy1Vju4A.005.wav', 'pOtWKOF07iU.000.wav', 'wm94g-5Cg5s.005.wav', 'C3knX70mzxQ.004.wav', 'JTmq4k4uQCY.002.wav', 'sNs4yCA11wk.001.wav', 'bt-ev53zZWE.004.wav', 'Or2_bP4lWYI.004.wav', 'vr5FWHUkYRM.001.wav', '9mM_0vrO3wc.003.wav', 'okSmKH2k5lE.002.wav', 'noepjVnUVFY.000.wav', 'vMtF0akNUK4.000.wav', 'eD4b8sM-Tpw.000.wav', 'RlUuWWWFrhM.005.wav', '4CSV8L7aVik.000.wav', 'T6CMGXdPUTA.001.wav', 'LKqN07ryM5I.004.wav', 'nGGtTu6dSJE.000.wav', 'YucM3Zzvekg.001.wav', 'L_gmlaz-0s4.003.wav', 'USO-o9dHJ3U.000.wav', '_uNup91ZYw0.002.wav', 'Yj36y7ELRZE.004.wav', 'KJ643kfjqLY.003.wav', 'jTkEWnuDnbA.001.wav', '98fnGDVky00.005.wav', 'B9NSU6gQdRw.005.wav', 'myhEW1aZRg4.000.wav', '2kqPuht5jTg.002.wav', 'M-SuraqmC9s.000.wav', '_mtiuHyOFXg.001.wav', 'zJR7w4DABGU.002.wav', 'Yj36y7ELRZE.001.wav', 'r2HcJYjGK5s.005.wav', 'C_NtwmmF2Ys.002.wav', 'dh6iOU2RtTA.003.wav', 'be0DQawtVkE.000.wav', 'SCZLT4fH5B8.001.wav', 'KHQJhOzdrYo.003.wav', 'modNfUPt3F4.005.wav', 'F9mZ6De_6Ko.004.wav', 'CdUYBux3Vn8.002.wav', 'opEoJBrcmbI.005.wav', 'RZOimXPTG0s.002.wav', 'MnARi5OWW9Q.000.wav', 'V8JaJ2IVG9E.005.wav', 'YPMffqhP0C8.000.wav', 'hquzfo9MVDo.003.wav']\n",
            "/content/drive/MyDrive/IP/audio_train_test/train/agreeableness [] ['Bije9nsMl7M.003.wav', 'sntohi33U5s.005.wav', 'GquB5W7bzFo.003.wav', 'wDvZdcb00Bg.004.wav', 'NoHext7JXYU.000.wav', 'zupxsNi2er8.005.wav', 'FZYN9ZFngFM.001.wav', 'J8YpOUmN_aI.000.wav', '8qDKGnABATw.001.wav', 'fUIWjaZCYwM.001.wav', 'B8kzwm6ZaUo.002.wav', 'RCr48dXuZYE.002.wav', 'oLO05QNhhGg.005.wav', 'IwfA-squ7Oo.001.wav', 'SFxiMxHvJuo.000.wav', 'me5UoRny6NU.005.wav', 'Jog1-pYOSD0.003.wav', 'pvvff396Rqg.005.wav', 'GTmHSF6vNWc.001.wav', 'YuoLr4xDvbE.004.wav', 'UrOamWOcOwQ.000.wav', 'uHrP02iwW1o.002.wav', 'Af_F0IzHK6o.004.wav', 'eAkWSjU-JyY.002.wav', 'Cvuu76B-bxA.002.wav', 'muLgzV1gGao.001.wav', 'DTZeyoKUPx4.000.wav', 'ZXeO5dRFrj0.005.wav', 'YGJ33FXzJO8.005.wav', 'p_Z4QGqu4Qo.001.wav', '--Ymqszjv54.004.wav', 'YygvfVxOWP8.000.wav', 'CPtaCNonKlE.003.wav', 'VRjJxTqOJyo.002.wav', 'ZIk7N-xHvF4.003.wav', 'AV7aKrAs-kM.005.wav', 'xyOq5SL0Evc.004.wav', 'bcx6xr9Ja-8.005.wav', 'Lz3hYPF6aIM.003.wav', 'ztyBhnjtrz0.004.wav', 'LCafv-LfC3Y.004.wav', 'USicjVA1trA.005.wav', '3Q3SB1dVAng.003.wav', 'rIRBEkDhn6Q.003.wav', 'ZNJFmNiWC4I.003.wav', 'BJpWi1qGp1A.000.wav', 'ly_0m16694Q.003.wav', '8e4nnel_x-M.001.wav', 'RuRn2t7iPSc.000.wav', 'kX-o1qmgWvc.004.wav', 'KGRUaRe3r7I.001.wav', 'Sa7iqqSbaTU.002.wav', 'Zwu5Y5r3Lrs.001.wav', 'fTpemcfElxI.000.wav', 'HUHFlCs3YJ8.001.wav', '7I-B2bBL0K0.004.wav', 'WyLqK6wzYLU.001.wav', 'T1tJTwlGqOM.001.wav', '5wpoKhbt28c.001.wav', '1YsZ4GPpyBA.004.wav', 'Jh7Wk5fYeMk.001.wav', 'isqmQc9AfBc.000.wav', 'yRVvI1x2DBI.005.wav', 'cWZudzeJVXg.002.wav', '1izSTcQI7H4.004.wav', 'r9TaaVTo8Y8.003.wav', '_ztmNiy8D3c.003.wav', 'i1cAYtXA2Xs.003.wav', 'WuHLxhCSnGs.005.wav', 'voSLxKtKr0Q.003.wav', 'MI_GQLbnoew.000.wav', 'VForU0EmBr0.003.wav', 'EMqrrHHbP3s.002.wav', '59Smv7wl--w.002.wav', 'YyHOKFYDZ5Y.004.wav', 'S0QIXcQGG-g.001.wav', 'RDOngWykAQU.000.wav', 'EcOC7ZVRSg4.003.wav', 'G-25EWOIGNs.002.wav', '05l5bteT_qA.001.wav', '300gK3CnzW0.004.wav', '4lj66h4CXI8.002.wav', 'w7O2QJu2Wl4.005.wav', 'nmZRXxKPPuQ.002.wav', 'RtNylXap2qk.000.wav', 'fipvPdFbKN4.004.wav', '1CYzbX8AaP8.001.wav', '-55DRRMTppE.005.wav', '0_xOGmydDN0.002.wav', 'AlEqtGWa43g.000.wav', 'T1tJTwlGqOM.005.wav', 'PYL8BGJKu20.001.wav', '2WuhWF4fAOQ.001.wav', '5f6s8cwA7WQ.005.wav', 'j3jdT1V-DeI.001.wav', 'm5kTITzj1bY.001.wav', '1AMp8Y_0UGc.000.wav', 'fecQUZ-ehKQ.002.wav', 'RgZTZIf8K8g.003.wav', 'KJ643kfjqLY.002.wav', 'yIM5bal1VVs.005.wav', 'rxYWgXYTATs.003.wav', 'PCmec_zcu_w.002.wav', 'Wa-HX5jP3ew.003.wav', 'QMRAbwZCTfI.005.wav', 'OxaBanUE6KE.004.wav', 'c4XnKouozXU.000.wav', '7Kn5VT9bB4I.001.wav', 'nBjBfN9SbpM.003.wav', 'jpyU48DzGTY.001.wav', 'qMARpi60Hhs.000.wav', 'IyBCZySg-c4.000.wav', 'Y6iogSmj6FQ.005.wav', 'eFzN_frNW8g.000.wav', 'JhdFmuwquHM.003.wav', 'UoC_4qi_m9c.002.wav', 'sDWJMBZ1mVA.003.wav', 'T4eZ81aJwJI.004.wav', 'jpyU48DzGTY.004.wav', 'vIW7gDmhYMk.004.wav', 'fSkQXqXR7D0.001.wav', 'MOobNUpfWiY.004.wav', 'PKYh4sungwI.003.wav', 'mY1ZTvNVkSA.003.wav', 'Gs-AdRcYSPo.004.wav', 'NFAlff6GUpA.003.wav', 'ZqbJIM7rmO8.003.wav', 'CqQavmWSLrI.000.wav', '2hhqEWiv4eI.002.wav', '1cqwKxx6GF8.004.wav', 'K-iwJMxjyx4.003.wav', '3JAFkk42zPs.005.wav', 'DyZlhseSuec.004.wav', 'Wx_oe0SxD9w.002.wav', 'Rwsss8y1bf0.000.wav', 'L-C1blPD_ec.000.wav', 'osqQpQsJNPQ.000.wav', 'CQMH9Qguuao.000.wav', '7UQt8QB3cQY.003.wav', 'aMmEPRJGocM.004.wav', 't3A2UMN3JeE.000.wav', 'orlXEgAepGo.002.wav', 'MD9yyz-OSRs.004.wav', 'KahSwziq8F0.002.wav', 'kUpkeJDcxaE.000.wav', 'KIhpjwf5uAA.001.wav', 'datcFOBWYxc.005.wav', 'C0UMWrEJ2x0.005.wav', 'dmycfNpiWCE.005.wav', 'oC-qxnrmJws.002.wav', 'in-HuMgiDCE.002.wav', '2IwWILRuuNU.003.wav', 'PtA7yAu9-VE.005.wav', 'zvX4fNj0uxk.004.wav', 'c3SQSM9OIsA.001.wav', 'nDsTSmE73M0.000.wav', '1izSTcQI7H4.000.wav', 'WATt9OOVZh8.001.wav', 'OIRq4d8IyKc.002.wav', 'zRiS2gIUc9s.000.wav', 'utv9RBNcL5w.005.wav', 'EMqrrHHbP3s.001.wav', 'LRU4jLhKaak.003.wav', 'mlsiYewUwO0.003.wav', 'p9l1MBw-5ic.002.wav', '1hpZ2ecWqtI.002.wav', 'IPjl2LdPMn0.004.wav', 'Tr3A7WODEuM.001.wav', 'A3StIKMjn4k.002.wav', 'sNs4yCA11wk.000.wav', 'MOXPVzRBDPo.002.wav', 'om-9kFEKJIs.004.wav', 'SFxiMxHvJuo.001.wav', 'NDBCrVvp0Vg.003.wav', 'F0_EI_X5JVk.003.wav', 'HegkSmkiBos.005.wav', 'nOFHZ_s7Et4.005.wav', 'yOzHZOg95Ug.005.wav', 'DVh_7dO2cWY.000.wav', 'Uu-NbXUPr-A.001.wav', 'xBiI0Oo1vBw.005.wav', 'upgv7xmOb1I.002.wav', 'yftfxiDNXko.002.wav', 'y--uBBy7ebM.005.wav', 'Qz_cjgCtDcM.003.wav', 'y0UCXXk9tlM.005.wav', 'UKHSKkb0V1o.003.wav', 'w0CQ55sKmck.002.wav', '54TGLGvIm_8.001.wav', 'VGoAtKcKIe8.005.wav', 'ZkypeQdzgvQ.003.wav', 'AheKnXrL0Wk.002.wav', 'm_9aygJNij8.004.wav', 'G7QTNbKbu_4.003.wav']\n",
            "/content/drive/MyDrive/IP/audio_train_test/train/conscientiousness [] ['QXFRE_pjrAE.001.wav', 'Tad9Q9OFjJw.003.wav', 'W2AB3UUyvwI.005.wav', 'd_POf1pikX0.005.wav', 'qD15qWMepxU.003.wav', 'tS6bRcIIjDc.005.wav', '3gKpBq-1yG4.001.wav', 'aoRjg63uRww.003.wav', 'Vy-Lr_iM5qo.003.wav', 'KLY518hfGhU.000.wav', 'pvvff396Rqg.004.wav', 'EL1Q7x_1a74.005.wav', 'OovRk5U9_GY.000.wav', 'ibawV2tqKug.005.wav', '2x8GZaBY6TM.003.wav', 'TD3H2DOSi1Y.001.wav', 'oYiWW-Qc0rs.002.wav', '8qesctueAV0.000.wav', 'TEGJrmNFvXY.001.wav', '5h5Pajjc_xM.001.wav', 'rUGAiuYHNgE.000.wav', 'bej-DbxTkWA.000.wav', '6WSr4IW6cNI.000.wav', 'zNHM8iNyTO4.005.wav', 'YiX6thczM1w.001.wav', 'KGRUaRe3r7I.002.wav', 'uf_sIIw4zxY.002.wav', 'Xfmu-7JuDGg.002.wav', 'Me22JENkhJA.000.wav', 'CO7vZjYF6Zk.000.wav', 'IveGfOJ86wY.004.wav', 'nZC82V87Pm0.004.wav', '3orJLMVqWYw.004.wav', 'IL5VgGakSNw.005.wav', 'hrat_RJczFM.001.wav', 'Y8gv_ZK3w4A.003.wav', 'YygvfVxOWP8.005.wav', 'PyPFJWirPjs.001.wav', 'ouYYWCY__5A.005.wav', '5BPGRteF64Y.001.wav', 'Hklc55y7vUI.000.wav', 'fmue_KpW9Ro.000.wav', 'fH0jgh_VKmE.003.wav', 'tS6bRcIIjDc.003.wav', 'shV5Fbzn9pw.002.wav', '3orJLMVqWYw.000.wav', 'm3z_a0l0FRk.000.wav', 'Fz1BcPpjNXY.001.wav', '4TpJ1FT2w6Y.005.wav', 'LuLUAwn0aWU.005.wav', '3ccY8jYkI5o.000.wav', 'mZ3vypXAfHg.003.wav', 'kK534gUcRF4.004.wav', '9eNHxfOV2Kg.004.wav', '8g5jPiQ6XdA.004.wav', 'B4ducm9sydg.003.wav', 'ZgFh3JPMs3Q.003.wav', 'uRY3aJAaogw.001.wav', '48S9_KZvzVw.005.wav', 'Gl93Hw1A2kY.003.wav', '8qG1sMihtPA.000.wav', 'QKluS-uQIaM.002.wav', 'B-OJ_xZILLg.003.wav', 'kdPRPO3wgg0.001.wav', 'cTbfp7nkX8c.000.wav', 'QipgesEKSNA.002.wav', '-VTqcHNgH7M.003.wav', 'mZQP06F94u8.003.wav', '50gokPvvMs8.002.wav', '-utrsarZeIY.001.wav', 'ax1Fck6zMzk.003.wav', 'Kpto8K_B-5A.002.wav', 'V7_h3URfSFY.005.wav', 'J28DwJsK8Do.004.wav', '2kqPuht5jTg.005.wav', 'KahSwziq8F0.004.wav', 'IQdz0Pd-L2Y.003.wav', '51hGkzvYP00.001.wav', 'JFKZEGDhcRs.002.wav', 'fhUGU2uiS1U.001.wav', 'R0RURVpmU9M.004.wav', 'u2XbiBuuxyI.001.wav', 'qCFFW1dM8V8.005.wav', 'qjU3GX3jgSY.002.wav', 'F4UeAogUMMs.005.wav', 'HONL8ha-1BE.004.wav', 'fk_ggmC872E.003.wav', 'pPtzEnf5afw.000.wav', '2TMl5EMrdVI.002.wav', 'm4ZmRZCv6VA.005.wav', 'huIQlWsIEvY.005.wav', 'gCQT7zfS7sI.001.wav', 'OugdInDyt9s.003.wav', 'ADa9rkwF2uA.003.wav', 'fwJykIyvS04.001.wav', 'W4tz3plvvKI.003.wav', 'khCsAN1Bk_I.002.wav', 'lLWOcztaIBI.001.wav', 'USO-o9dHJ3U.004.wav', 'FcR9VhCxBb0.004.wav', 'f0LnGz5Z6kA.002.wav', 'BkDdtxDPjJA.001.wav', 'Znixev2a1AI.001.wav', 'JBdLI6AhJrw.001.wav', 'kDP6_hiBR0o.002.wav', 'yVSfQZGt1co.001.wav', '93XyRBd_HqU.002.wav', 'DTZeyoKUPx4.003.wav', '_7s27dUoYVg.003.wav', 'lLKwlPLdYig.000.wav', 'Y-_JeJoCjUo.001.wav', 't1PKNXE-IiM.000.wav', 'do8FmnQbI5I.001.wav', 'CpmR-91GxmY.000.wav', 'FkuwzJcoRVI.004.wav', 'aPTNxA43WHY.002.wav', '521sm7CTyfg.000.wav', 'J8YpOUmN_aI.001.wav', 'eAkWSjU-JyY.001.wav', '9Crw2RtrBcY.004.wav', 'ZiKxJbVI5_g.002.wav', 'jOTlJwOBSd4.004.wav', 'e2EmGXRJ1K0.001.wav', 'NTATNIs2sSc.001.wav', '98fnGDVky00.003.wav', 'rBxWZzkEncE.004.wav', 'WpMPrPnk1po.000.wav', '8py6SksNsZQ.005.wav', 'fEZrAGQoh_g.001.wav', 'IXVf5VWxOAg.000.wav', 'fL8VYpOTLSM.004.wav', 'nKx64KH7Xks.005.wav', 'w2FKw8IhbFw.001.wav', 'WuIKjBb7s4Q.003.wav', '-R2SZu3SYgM.000.wav', '4VwcU0ROy5k.001.wav', 'Xfmu-7JuDGg.001.wav', 'ld7mBR4v3yU.002.wav', 'YPnuq0tDDqk.000.wav', '6ePyEPQp77Q.005.wav', 'MrfJ1qDJAwo.005.wav', 'KpTHRBaYny8.005.wav', 'PgpMUHH8lEI.003.wav', '44rxmXiga90.001.wav', 'vNEs2yGe77s.000.wav', 'j3jdT1V-DeI.004.wav', 'cNXnowQb7rs.004.wav', 'c5ZnKbaNCE8.005.wav', '7pLWTfnOSIU.001.wav', 'eI_7SimPnnQ.001.wav', 'cvHqtadNJDo.004.wav', 'geXpIfaFzF4.001.wav', 'BWAEpai6FK0.003.wav', '-AmMDnVl4s8.003.wav', '9hqH1PJ6cG8.001.wav', 'C_NtwmmF2Ys.000.wav', 'w4cZStXMUII.003.wav', 'TPk6KiHuPag.004.wav', '1DCnIad1Y0w.002.wav', 'x0CZuHnJ0Hs.005.wav', 'opEoJBrcmbI.002.wav', 'VUgKH9DIs-8.001.wav', 'OWZ-qVZG14A.002.wav', 'W0FCCk0a0tg.001.wav', '6KKNrufnL80.000.wav', '9KAqOrdiZ4I.002.wav', 'UQeuBvZNusI.001.wav', 'rxYWgXYTATs.002.wav', '2KSBoJZMcMU.003.wav', 'in-HuMgiDCE.004.wav', 'EwMMNKLjO9w.002.wav', 'vR7YF7Zv5-Q.003.wav', 'c4XnKouozXU.001.wav', 'gsleSGEZHAs.001.wav', 'KIhpjwf5uAA.000.wav', 'dB2XYhvqUBU.003.wav', 'Wd0V4MNvqcg.001.wav', 'rCxlfusNJlY.001.wav', 'o2lu6rkd5-Y.001.wav', 'EiXQ9RErt6c.003.wav', 'A7exx3pEPkE.000.wav', 'jxoOEkSq0uM.001.wav', 'XQZ5M9oLkXw.005.wav', 'MuYYY3XaJ7Q.003.wav']\n",
            "/content/drive/MyDrive/IP/audio_train_test/train/extraversion [] ['L-rmZZP_wj8.004.wav', '5Eez38v8TuU.000.wav', '_IS6GFmQYj4.002.wav', 'NdAJGXf8aos.002.wav', 'UQeuBvZNusI.003.wav', 'ask-ZFRztf8.005.wav', 'P63CUj9KnSw.004.wav', '_zs9K5Gtkwo.003.wav', 'Kq-c6lqGNlo.005.wav', 'bkzgccBFztM.000.wav', 'QqTw0lnrtBo.002.wav', 'Fco1CMgOadI.005.wav', 'sDWJMBZ1mVA.002.wav', 'OmXuhT4yJpo.000.wav', 'cP_dSXql7z8.000.wav', 'zJEnT19uoPY.005.wav', 'duEi37qVB7k.000.wav', 'XFqLaKqrUHM.004.wav', 'ZNJFmNiWC4I.001.wav', 'dVwDf5N2NRA.005.wav', 'IwfA-squ7Oo.000.wav', 'OxaBanUE6KE.002.wav', 'AwNVGShHjvw.004.wav', 'hnWMsZEQWt4.003.wav', '-Wqk9eex6bQ.003.wav', 'gUyH1qvbOZA.004.wav', 'r1v6EmZv7-o.002.wav', 'D4TU65xbF4g.000.wav', 'OD_gyCYpR8U.002.wav', 't899haDGi38.003.wav', 'NhyVkwcZbTA.005.wav', 'nZz1hK90gwA.004.wav', 'DnTtbAR_Qyw.004.wav', 'tEQEKN07KgQ.000.wav', '0axZSeaUbfs.002.wav', 'I01_ubtktEQ.001.wav', 'BLeDNfK2quI.005.wav', 'Ng2E0E5tiZQ.005.wav', 'yzgA9oAEgI4.002.wav']\n",
            "/content/drive/MyDrive/IP/audio_train_test/train/neuroticism [] ['UD-8YYU7GZs.004.wav', 'bej-DbxTkWA.003.wav', 'N0s2M3bJkUk.003.wav', 'pOtWKOF07iU.002.wav', 'QNVsr2mGwGs.001.wav', '2hhqEWiv4eI.004.wav', '6EMgu2djYrU.005.wav', 'rGTn2uaCAT0.003.wav', 'cnsvc0alWOA.000.wav', 'Xauhek9-iKA.001.wav', 'VAZLQqJa9rQ.003.wav', 'HhC2cGFFZeY.005.wav', '1mHjMNZZvFo.000.wav', '44rxmXiga90.004.wav', 'R6NTuhZtOks.003.wav', 'V1TjmLtgNm0.005.wav', 'EqTB9rAC-tA.000.wav', '4kIHxR6s1L4.005.wav', 'RlaaCqle7tY.005.wav', 'd4iSwRMV0bA.002.wav', 'ZIk7N-xHvF4.004.wav', 'D_FGBb-1B1o.001.wav', 'GxMxrhiyjO8.005.wav', '836kYlEs9GI.003.wav', 'FM5UaJS-bhg.001.wav', 'N4tuu9aCXkw.004.wav', 'OD3cfWeJaOY.004.wav', '69BopbFc34U.001.wav', 'rFs0AC2qV6o.001.wav', '6k8RQViPUTc.000.wav', 'sqnW6xXYTKg.001.wav', 'Lt89YrQHF_w.005.wav', 'rBxWZzkEncE.003.wav', 'Jv2lyDcOmEM.001.wav', 'wdeOWVDSeLE.001.wav', 'erJNMcO69Eo.005.wav', 'm4-vvEeWP8s.002.wav', 'X1EjfXX3NTk.000.wav', 'DXYRJ8PReoE.002.wav', 'g0Zlp-F6Z6E.004.wav', '2q8orkMs2Jg.000.wav', 'h-jMFLm6U_Y.004.wav', 'lLWOcztaIBI.000.wav', 'OZaP2T74bLI.000.wav', '4nJLbAKgwfw.005.wav', 'cOossY5pTrU.002.wav', '7RQbn7LM10I.000.wav', 'KDwpjQiIfjY.000.wav', 'RhFPotjd0hM.004.wav', 'upgv7xmOb1I.005.wav', 'l3IoZ_QmOQo.001.wav', 'a84s1DYag-I.001.wav', '3S8QUGYVf_w.000.wav', 'IzsP0TRzFbo.002.wav', '2fzLibPAtvI.005.wav', 'Gdv79afXNKE.005.wav', 'lmz3nj1VLzY.003.wav', 'DegRGUG4Wi0.001.wav', 'B8kzwm6ZaUo.001.wav', 'ZCLfVue6xAg.001.wav', '5BPGRteF64Y.002.wav', '0u56Q_QmxIM.002.wav', 'qtB-CogljAo.002.wav', 'PyPFJWirPjs.000.wav', 'wJl7DbsbrDA.000.wav', 'wTo1uZns2X8.000.wav', 'yOzHZOg95Ug.003.wav', 'osqQpQsJNPQ.004.wav', 'jDdRrqRcSzM.002.wav', 'n8IiQJyqjiE.003.wav', 'vrMlwwTLWIE.005.wav', '50gokPvvMs8.000.wav', 'in-HuMgiDCE.001.wav', '4lH5nLSwmoM.003.wav', 'dLaqub4BEsA.001.wav', 'Y8gv_ZK3w4A.002.wav', 'yIe7Rp54-bU.001.wav', 'DTZeyoKUPx4.005.wav', 'Kq-c6lqGNlo.000.wav', '6JfSPPVUgIg.003.wav', '4F-WBGPXiqQ.001.wav']\n",
            "/content/drive/MyDrive/IP/audio_train_test/test ['openness', 'agreeableness', 'extraversion', 'neuroticism', 'conscientiousness'] []\n",
            "/content/drive/MyDrive/IP/audio_train_test/test/openness [] ['ZoHY-rWJsyw.001.wav', 'XEpdSMQfEOs.003.wav', 'JIR4aPcyrn8.000.wav', 'EelHLfeSJfM.004.wav', 'rD6NViDdyOU.001.wav', 'WRz1F6DqmRQ.000.wav', '0tse0Fsy_rg.002.wav', 'qRtKUGgULL8.000.wav', 'N1ZOAktFbI0.002.wav', '8aLr0vNobr4.004.wav', '495hLlCEW64.001.wav', 'aFVFvJNnFt0.000.wav', 'xsLvl2qGrxU.002.wav', 'LCafv-LfC3Y.001.wav', 'vCY4uvfrWXA.003.wav', 'ykm4JTvlOCQ.000.wav', '3Sj-GZ3YXWs.000.wav', 'mpk5Ubw2fj8.004.wav', 'nBjBfN9SbpM.002.wav', 'nkmYbzMmrYw.001.wav', 'Ya9Szm73LfE.002.wav', 'yBMuZWldxLk.001.wav', 'Iqbg3CwVpXA.004.wav', 'Sa7iqqSbaTU.000.wav', 'qPzzmcuf-VI.000.wav', '7tlMys6MZ34.000.wav', 'HH03EXo0TB0.002.wav', 'r2BoxB3kgYk.003.wav', '3ySH8eJQRCI.005.wav', '2PSGksTyrnI.004.wav', 'Q4z4GRUtccE.000.wav', 'fipvPdFbKN4.000.wav', 'vAEqpUwBMJQ.004.wav', 'V8w2Lo5wxl8.004.wav', 'xDjhf8wrNWQ.001.wav', '_fJcW5234bY.002.wav', 'sOkGz6gEmGk.000.wav', 'bMY2DaFFwzU.000.wav', '51z2rCqPqPE.005.wav', 'f9GeYKAXgAQ.000.wav', 'mnRuiwFx_Z8.005.wav', 'iXaqqRE76lI.000.wav', '4vdJGgZpj4k.004.wav', 'mlXZQ8dO0nQ.005.wav', '54TGLGvIm_8.004.wav', 'dkhnv1EBvKI.002.wav', 'SxRNdq2nGN0.001.wav', '0tse0Fsy_rg.001.wav', '3RhBqNzCMG8.001.wav', 'fEix0DPOWtg.005.wav', 'jZDlFzVUZwY.005.wav', 'YGrCXe2-fVk.004.wav', 'mEQBB6XsJFk.005.wav', 'shAhNNV-zHA.000.wav', '9XqeGs2MMic.000.wav', 'OoxYhDbzWwg.002.wav', 'YiX6thczM1w.005.wav', 'dLltwqkvsNg.002.wav', '0Wr69VD_oXI.004.wav', 'JBdLI6AhJrw.000.wav', 'JiXJeI5_jGM.000.wav', 'nfN9qJSVank.005.wav', 'F0_EI_X5JVk.001.wav', 'ymrFbEMNBME.004.wav', 'HUHFlCs3YJ8.000.wav', 'bEXDNfLBy1I.004.wav', 'SkNO4x-LSgE.005.wav', 'fLRRMLTFGMQ.000.wav']\n",
            "/content/drive/MyDrive/IP/audio_train_test/test/agreeableness [] ['OEKg-Tvwcbk.003.wav', 'ncmnmmmWEpU.004.wav', 'pQy4omHIf7o.003.wav', 'zF46tAI2PQc.004.wav', 'odRqijkG28U.004.wav', 'LfvTKoMYLEE.004.wav', 'xmD4FKMq2rk.005.wav', 'PRplbrM70sg.004.wav', 'VOhsEbDjZ9E.001.wav', 'NWlCdMyKlE0.000.wav', 'qr1C43Ylavg.001.wav', 'CfNbSToI21k.004.wav', 'QDd2AfQEAqs.001.wav', '9DF_-PXbpkg.001.wav', 'outvbZgNX58.004.wav', 'NG8qWulkRM4.001.wav', 'eqXrUXW4yHY.003.wav', 'mkJjaOADfj4.001.wav', 'RdHnu7ZxjzI.000.wav', 'mflgXFsGU9w.004.wav', 'CRLsCyMfskE.000.wav', 'p9tAC-RqZPI.002.wav', 'lvae9lRUugE.004.wav', 'gZzB49daFfA.005.wav', 'LeQKH1vAVpg.003.wav', 'PgpMUHH8lEI.000.wav', '0kg6pmbSN6A.005.wav', 'qP1UtCbMaW4.003.wav', 'MOXPVzRBDPo.004.wav', 'ZqbJIM7rmO8.001.wav', 'io0aNQE8En8.000.wav', 'XkeSLRAftxA.001.wav', 'hX2TVefa5bQ.005.wav', '_0bg1TLPP-I.004.wav', '3J7Cl3FXs1o.001.wav', 'LtBYojIGYEc.003.wav', 'iAgu-wDe2MQ.002.wav', 'It0-yCwOc5k.000.wav', 'T-mK85acIOc.004.wav', 'bFwtVtZodIg.002.wav', 'ya8Ec_yTai8.002.wav', 'kN9cs2nFhM4.005.wav', 'Nv0-x4K9YFI.001.wav', '83cmR2fkyy8.005.wav', 'dd0z9mErfSo.003.wav', 'Q2AI4XpApFs.002.wav', 'Etfh8X-ECtY.001.wav', 'qVcw5-mm31s.004.wav', 'vr5FWHUkYRM.000.wav']\n",
            "/content/drive/MyDrive/IP/audio_train_test/test/extraversion [] ['UWVOT3YPQH4.005.wav', 'VRjJxTqOJyo.004.wav', 'mBJTwQsDC4M.002.wav', 'TPRQyuiNYmI.002.wav', 'fSDA4eEyGHk.002.wav', 'x6Tluj4dJTU.004.wav', 'u_qvbRpm88k.005.wav', 'JIYZTruMpiI.003.wav', 'hG0I7DLSSYg.003.wav', 'hPguTv1Zvg8.004.wav']\n",
            "/content/drive/MyDrive/IP/audio_train_test/test/neuroticism [] ['T9xSEBSaL7Q.003.wav', 'xX5Imr7UmaA.002.wav', 'SYlV95nPTPs.001.wav', 'RZOimXPTG0s.000.wav', 'D4TU65xbF4g.005.wav', 'jpPZVmzleAo.002.wav', 'ua5c716lu5s.001.wav', 'omeHsKF7InA.000.wav', 'taSAaWKcmTw.004.wav', 'pQy4omHIf7o.004.wav', 'O14mSiNfYDo.001.wav', 'Oe7ItP7gS4w.000.wav', '5uFZ-2kYGO0.000.wav', 'Sb1b8JMVhLs.002.wav', 'EL1Q7x_1a74.000.wav', 'mZ2CHgzwDt0.002.wav', 'fecQUZ-ehKQ.000.wav', 'V9roK_mLM-w.003.wav', 'jmbAPNTJ3Vk.005.wav', 'xHb5_bc1JOA.000.wav', 'vAEqpUwBMJQ.005.wav']\n",
            "/content/drive/MyDrive/IP/audio_train_test/test/conscientiousness [] ['e3Y7na4SBh4.002.wav', 'ldq15dfuaLg.001.wav', 'OxaBanUE6KE.001.wav', 'Os7L5C-i9Fw.004.wav', 'PJxgOFaaUZM.004.wav', 'ic_LECbCm5M.004.wav', 'izqyworQEEM.001.wav', '0tse0Fsy_rg.004.wav', '4NzqG0XwOWg.002.wav', 'ej0RpdM9kJA.000.wav', 'QXFRE_pjrAE.003.wav', 'ask-ZFRztf8.002.wav', 'fiVORaERbP0.002.wav', 'SOxdUtjGmAo.003.wav', 'NDC375coN1o.001.wav', 'odHogR_36Dc.000.wav', 'kY_4WyAXxrQ.000.wav', 'L5kpy0SA7os.000.wav', 'wYZJ2HXfvmQ.002.wav', 'scifP1EXSdo.001.wav', '8narByy2B5g.004.wav', 'TCzYD74Xqe8.000.wav', 'QuwVzi2tQrQ.005.wav', 'jxt1W2WRNHQ.002.wav', 'twO6ceVTuII.001.wav', 'AFvUxDwJB84.003.wav', 'nUbhRInpVbA.004.wav', 's-jZlMKQGwc.000.wav', '6uqXoPJSoPg.005.wav', 'iQvoDdxt06M.000.wav', 'vHIBCKwJLEY.001.wav', 'LeQKH1vAVpg.005.wav', 'p_Z4QGqu4Qo.004.wav', 'OoxYhDbzWwg.005.wav', 'TeNC9wOhlXM.000.wav', 'I01_ubtktEQ.004.wav', 'luH2RoZW-eY.001.wav', 'iPblZBQpafs.003.wav', 'Z5S5uGXkNuc.001.wav', 'jwcSbw4NDn0.005.wav', 'WT1YjeADatU.001.wav', 'L9sG80PI1Gw.003.wav', 'g24JGYuT74A.003.wav', 'do8FmnQbI5I.000.wav', 'AlEqtGWa43g.005.wav', 'DyZlhseSuec.002.wav']\n"
          ]
        }
      ]
    },
    {
      "cell_type": "code",
      "source": [],
      "metadata": {
        "id": "xFHqzaDAsolE"
      },
      "execution_count": null,
      "outputs": []
    }
  ]
}