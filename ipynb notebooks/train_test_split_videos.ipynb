{
  "nbformat": 4,
  "nbformat_minor": 0,
  "metadata": {
    "colab": {
      "provenance": []
    },
    "kernelspec": {
      "name": "python3",
      "display_name": "Python 3"
    },
    "language_info": {
      "name": "python"
    }
  },
  "cells": [
    {
      "cell_type": "code",
      "execution_count": null,
      "metadata": {
        "id": "Ip10p5XgXJhe"
      },
      "outputs": [],
      "source": [
        "import os\n",
        "import shutil as sh\n",
        "import pandas as pd\n",
        "import numpy as np"
      ]
    },
    {
      "cell_type": "code",
      "source": [
        "path = \"/content/drive/MyDrive/IP/training_set1\"\n",
        "# print(os.listdir(path))\n",
        "\n",
        "df = pd.read_csv(\"/content/drive/MyDrive/IP/Master_Text.csv\")\n",
        "df = df.drop([\"Text\",\"interview\"],axis=1)\n",
        "df.head()"
      ],
      "metadata": {
        "colab": {
          "base_uri": "https://localhost:8080/",
          "height": 243
        },
        "id": "1dX5nhygXmxo",
        "outputId": "b93eb85b-0efd-4d0f-b819-a219fe7681f7"
      },
      "execution_count": null,
      "outputs": [
        {
          "output_type": "stream",
          "name": "stdout",
          "text": [
            "['training80_05', 'training80_07', 'training80_09', 'training80_03', 'training80_10', 'training80_12', 'training80_11', 'training80_06', 'training80_08', 'training80_04', 'training80_01', 'training80_02', '.ipynb_checkpoints']\n"
          ]
        },
        {
          "output_type": "execute_result",
          "data": {
            "text/plain": [
              "            Video_Name  extraversion  neuroticism  agreeableness  \\\n",
              "0  J4GQm9j0JZ0.003.mp4      0.523364     0.552083       0.626374   \n",
              "1  zEyRyTnIw5I.005.mp4      0.345794     0.375000       0.472527   \n",
              "2  nskJh7v6v1U.004.mp4      0.252336     0.291667       0.406593   \n",
              "3  6wHQsN5g2RM.000.mp4      0.457944     0.489583       0.505495   \n",
              "4  dQOeQYWIgm8.000.mp4      0.607477     0.489583       0.406593   \n",
              "\n",
              "   conscientiousness  openness  \n",
              "0           0.601942  0.488889  \n",
              "1           0.582524  0.366667  \n",
              "2           0.485437  0.511111  \n",
              "3           0.398058  0.377778  \n",
              "4           0.621359  0.622222  "
            ],
            "text/html": [
              "\n",
              "  <div id=\"df-ac0b634a-9e91-4952-a8a6-0645be111878\">\n",
              "    <div class=\"colab-df-container\">\n",
              "      <div>\n",
              "<style scoped>\n",
              "    .dataframe tbody tr th:only-of-type {\n",
              "        vertical-align: middle;\n",
              "    }\n",
              "\n",
              "    .dataframe tbody tr th {\n",
              "        vertical-align: top;\n",
              "    }\n",
              "\n",
              "    .dataframe thead th {\n",
              "        text-align: right;\n",
              "    }\n",
              "</style>\n",
              "<table border=\"1\" class=\"dataframe\">\n",
              "  <thead>\n",
              "    <tr style=\"text-align: right;\">\n",
              "      <th></th>\n",
              "      <th>Video_Name</th>\n",
              "      <th>extraversion</th>\n",
              "      <th>neuroticism</th>\n",
              "      <th>agreeableness</th>\n",
              "      <th>conscientiousness</th>\n",
              "      <th>openness</th>\n",
              "    </tr>\n",
              "  </thead>\n",
              "  <tbody>\n",
              "    <tr>\n",
              "      <th>0</th>\n",
              "      <td>J4GQm9j0JZ0.003.mp4</td>\n",
              "      <td>0.523364</td>\n",
              "      <td>0.552083</td>\n",
              "      <td>0.626374</td>\n",
              "      <td>0.601942</td>\n",
              "      <td>0.488889</td>\n",
              "    </tr>\n",
              "    <tr>\n",
              "      <th>1</th>\n",
              "      <td>zEyRyTnIw5I.005.mp4</td>\n",
              "      <td>0.345794</td>\n",
              "      <td>0.375000</td>\n",
              "      <td>0.472527</td>\n",
              "      <td>0.582524</td>\n",
              "      <td>0.366667</td>\n",
              "    </tr>\n",
              "    <tr>\n",
              "      <th>2</th>\n",
              "      <td>nskJh7v6v1U.004.mp4</td>\n",
              "      <td>0.252336</td>\n",
              "      <td>0.291667</td>\n",
              "      <td>0.406593</td>\n",
              "      <td>0.485437</td>\n",
              "      <td>0.511111</td>\n",
              "    </tr>\n",
              "    <tr>\n",
              "      <th>3</th>\n",
              "      <td>6wHQsN5g2RM.000.mp4</td>\n",
              "      <td>0.457944</td>\n",
              "      <td>0.489583</td>\n",
              "      <td>0.505495</td>\n",
              "      <td>0.398058</td>\n",
              "      <td>0.377778</td>\n",
              "    </tr>\n",
              "    <tr>\n",
              "      <th>4</th>\n",
              "      <td>dQOeQYWIgm8.000.mp4</td>\n",
              "      <td>0.607477</td>\n",
              "      <td>0.489583</td>\n",
              "      <td>0.406593</td>\n",
              "      <td>0.621359</td>\n",
              "      <td>0.622222</td>\n",
              "    </tr>\n",
              "  </tbody>\n",
              "</table>\n",
              "</div>\n",
              "      <button class=\"colab-df-convert\" onclick=\"convertToInteractive('df-ac0b634a-9e91-4952-a8a6-0645be111878')\"\n",
              "              title=\"Convert this dataframe to an interactive table.\"\n",
              "              style=\"display:none;\">\n",
              "        \n",
              "  <svg xmlns=\"http://www.w3.org/2000/svg\" height=\"24px\"viewBox=\"0 0 24 24\"\n",
              "       width=\"24px\">\n",
              "    <path d=\"M0 0h24v24H0V0z\" fill=\"none\"/>\n",
              "    <path d=\"M18.56 5.44l.94 2.06.94-2.06 2.06-.94-2.06-.94-.94-2.06-.94 2.06-2.06.94zm-11 1L8.5 8.5l.94-2.06 2.06-.94-2.06-.94L8.5 2.5l-.94 2.06-2.06.94zm10 10l.94 2.06.94-2.06 2.06-.94-2.06-.94-.94-2.06-.94 2.06-2.06.94z\"/><path d=\"M17.41 7.96l-1.37-1.37c-.4-.4-.92-.59-1.43-.59-.52 0-1.04.2-1.43.59L10.3 9.45l-7.72 7.72c-.78.78-.78 2.05 0 2.83L4 21.41c.39.39.9.59 1.41.59.51 0 1.02-.2 1.41-.59l7.78-7.78 2.81-2.81c.8-.78.8-2.07 0-2.86zM5.41 20L4 18.59l7.72-7.72 1.47 1.35L5.41 20z\"/>\n",
              "  </svg>\n",
              "      </button>\n",
              "      \n",
              "  <style>\n",
              "    .colab-df-container {\n",
              "      display:flex;\n",
              "      flex-wrap:wrap;\n",
              "      gap: 12px;\n",
              "    }\n",
              "\n",
              "    .colab-df-convert {\n",
              "      background-color: #E8F0FE;\n",
              "      border: none;\n",
              "      border-radius: 50%;\n",
              "      cursor: pointer;\n",
              "      display: none;\n",
              "      fill: #1967D2;\n",
              "      height: 32px;\n",
              "      padding: 0 0 0 0;\n",
              "      width: 32px;\n",
              "    }\n",
              "\n",
              "    .colab-df-convert:hover {\n",
              "      background-color: #E2EBFA;\n",
              "      box-shadow: 0px 1px 2px rgba(60, 64, 67, 0.3), 0px 1px 3px 1px rgba(60, 64, 67, 0.15);\n",
              "      fill: #174EA6;\n",
              "    }\n",
              "\n",
              "    [theme=dark] .colab-df-convert {\n",
              "      background-color: #3B4455;\n",
              "      fill: #D2E3FC;\n",
              "    }\n",
              "\n",
              "    [theme=dark] .colab-df-convert:hover {\n",
              "      background-color: #434B5C;\n",
              "      box-shadow: 0px 1px 3px 1px rgba(0, 0, 0, 0.15);\n",
              "      filter: drop-shadow(0px 1px 2px rgba(0, 0, 0, 0.3));\n",
              "      fill: #FFFFFF;\n",
              "    }\n",
              "  </style>\n",
              "\n",
              "      <script>\n",
              "        const buttonEl =\n",
              "          document.querySelector('#df-ac0b634a-9e91-4952-a8a6-0645be111878 button.colab-df-convert');\n",
              "        buttonEl.style.display =\n",
              "          google.colab.kernel.accessAllowed ? 'block' : 'none';\n",
              "\n",
              "        async function convertToInteractive(key) {\n",
              "          const element = document.querySelector('#df-ac0b634a-9e91-4952-a8a6-0645be111878');\n",
              "          const dataTable =\n",
              "            await google.colab.kernel.invokeFunction('convertToInteractive',\n",
              "                                                     [key], {});\n",
              "          if (!dataTable) return;\n",
              "\n",
              "          const docLinkHtml = 'Like what you see? Visit the ' +\n",
              "            '<a target=\"_blank\" href=https://colab.research.google.com/notebooks/data_table.ipynb>data table notebook</a>'\n",
              "            + ' to learn more about interactive tables.';\n",
              "          element.innerHTML = '';\n",
              "          dataTable['output_type'] = 'display_data';\n",
              "          await google.colab.output.renderOutput(dataTable, element);\n",
              "          const docLink = document.createElement('div');\n",
              "          docLink.innerHTML = docLinkHtml;\n",
              "          element.appendChild(docLink);\n",
              "        }\n",
              "      </script>\n",
              "    </div>\n",
              "  </div>\n",
              "  "
            ]
          },
          "metadata": {},
          "execution_count": 9
        }
      ]
    },
    {
      "cell_type": "code",
      "source": [
        "col = df.columns[1:]\n",
        "# print(list(col))\n",
        "path1 = \"/content/drive/MyDrive/IP/video_split\"\n"
      ],
      "metadata": {
        "id": "W4nFqWcLXuox"
      },
      "execution_count": null,
      "outputs": []
    },
    {
      "cell_type": "code",
      "source": [
        "for i in col:\n",
        "  os.makedirs(f\"{path1}/{i}\")"
      ],
      "metadata": {
        "id": "rY6gN_k7haEI"
      },
      "execution_count": null,
      "outputs": []
    },
    {
      "cell_type": "code",
      "source": [
        "def video_label(name):\n",
        "  a=df[df.Video_Name==name]\n",
        "  m=0\n",
        "  for i in a.columns[1:]:\n",
        "    if float(a[i])>m:\n",
        "      m=float(a[i])\n",
        "      col_name = i\n",
        "  return col_name"
      ],
      "metadata": {
        "id": "JgfbWCHsYpQ4"
      },
      "execution_count": null,
      "outputs": []
    },
    {
      "cell_type": "code",
      "source": [
        "for i in os.listdir(path):\n",
        "  for j in os.listdir(f\"{path}/{i}\"):\n",
        "    col_name = video_label(j)\n",
        "    sh.copy(f\"{path}/{i}/{j}\",f\"{path1}/{col_name}\")"
      ],
      "metadata": {
        "id": "HKitwRjmbeJG"
      },
      "execution_count": null,
      "outputs": []
    },
    {
      "cell_type": "code",
      "source": [
        "!pip install split-folders"
      ],
      "metadata": {
        "colab": {
          "base_uri": "https://localhost:8080/"
        },
        "id": "OO6uEQzld6xO",
        "outputId": "cc7d2aa6-3bd2-41e0-e22c-3ffe564fb532"
      },
      "execution_count": null,
      "outputs": [
        {
          "output_type": "stream",
          "name": "stdout",
          "text": [
            "Looking in indexes: https://pypi.org/simple, https://us-python.pkg.dev/colab-wheels/public/simple/\n",
            "Requirement already satisfied: split-folders in /usr/local/lib/python3.9/dist-packages (0.5.1)\n"
          ]
        }
      ]
    },
    {
      "cell_type": "code",
      "source": [
        "import splitfolders\n",
        "splitfolders.ratio('/content/drive/MyDrive/IP/video_split', output=\"/content/drive/MyDrive/IP/video_train_test\", seed=1337, ratio=(.8, 0.2))"
      ],
      "metadata": {
        "colab": {
          "base_uri": "https://localhost:8080/"
        },
        "id": "ZgICrdzahL9Y",
        "outputId": "6bbadbea-b2b9-4773-e20d-937e966fbd6b"
      },
      "execution_count": null,
      "outputs": [
        {
          "output_type": "stream",
          "name": "stderr",
          "text": [
            "Copying files: 960 files [00:45, 21.27 files/s]\n"
          ]
        }
      ]
    },
    {
      "cell_type": "code",
      "source": [],
      "metadata": {
        "id": "D9cJIAmj1TVY"
      },
      "execution_count": null,
      "outputs": []
    }
  ]
}