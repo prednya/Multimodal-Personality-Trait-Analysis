{
  "nbformat": 4,
  "nbformat_minor": 0,
  "metadata": {
    "colab": {
      "provenance": []
    },
    "kernelspec": {
      "name": "python3",
      "display_name": "Python 3"
    },
    "language_info": {
      "name": "python"
    }
  },
  "cells": [
    {
      "cell_type": "code",
      "execution_count": null,
      "metadata": {
        "id": "_m_WLXJaaZ48"
      },
      "outputs": [],
      "source": [
        "!pip install transformers"
      ]
    },
    {
      "cell_type": "code",
      "source": [
        "import pickle\n",
        "import pandas as pd"
      ],
      "metadata": {
        "id": "EdMg2fLMSqGg"
      },
      "execution_count": null,
      "outputs": []
    },
    {
      "cell_type": "code",
      "source": [
        "\n",
        "#@title Converting pkl dataset to csv\n",
        "\n",
        "with open(\"/content/transcription_training.pkl\",\"rb\") as f:  #donwload it from the official website\n",
        "  X = pickle.load(f)\n",
        "\n",
        "with open(\"/content/annotation_training.pkl\",\"rb\") as f:\n",
        "  Y = pickle.load(f,encoding=\"unicode_escape\")\n",
        "\n",
        "df = pd.DataFrame()\n",
        "print(Y[\"interview\"].keys()==X.keys()) #checking if X and Y are in order wrt video name\n",
        "df[\"Video_Name\"] = list(X.keys())\n",
        "df[\"Text\"] = list(X.values())\n",
        "for i in Y:\n",
        "  df[i] = list(Y[i].values())\n",
        "\n",
        "df.to_csv(\"/content/Master_Text.csv\",index=False)"
      ],
      "metadata": {
        "id": "toUI_4IaamA_"
      },
      "execution_count": null,
      "outputs": []
    },
    {
      "cell_type": "markdown",
      "source": [
        "## Training Data Info"
      ],
      "metadata": {
        "id": "2UgB4aD6TQqu"
      }
    },
    {
      "cell_type": "code",
      "source": [
        "len(X) #number of videos"
      ],
      "metadata": {
        "colab": {
          "base_uri": "https://localhost:8080/"
        },
        "id": "HHk7zGz5bqB4",
        "outputId": "372ca1bc-57e0-465d-cbdc-7934051d4c78"
      },
      "execution_count": null,
      "outputs": [
        {
          "output_type": "execute_result",
          "data": {
            "text/plain": [
              "6000"
            ]
          },
          "metadata": {},
          "execution_count": 3
        }
      ]
    },
    {
      "cell_type": "code",
      "source": [
        "X[\"e07IozLUeKc.001.mp4\"]"
      ],
      "metadata": {
        "colab": {
          "base_uri": "https://localhost:8080/",
          "height": 70
        },
        "id": "E4pj6Ee5ch8_",
        "outputId": "db75888e-019d-4bba-e97e-df029d42afcd"
      },
      "execution_count": null,
      "outputs": [
        {
          "output_type": "execute_result",
          "data": {
            "text/plain": [
              "\"I've heard people talk about it. Apparently it's like super sexual or whatnot. Tell you the truth, I don't really read much and yes there's Audible but I don't even do that. Sorry. Do you crack your knuckles? No. I completely hate even hearing-\""
            ],
            "application/vnd.google.colaboratory.intrinsic+json": {
              "type": "string"
            }
          },
          "metadata": {},
          "execution_count": 22
        }
      ]
    },
    {
      "cell_type": "code",
      "source": [
        "for i in Y:\n",
        "  print(i,Y[i][\"e07IozLUeKc.001.mp4\"])"
      ],
      "metadata": {
        "colab": {
          "base_uri": "https://localhost:8080/"
        },
        "id": "S8bSpDuLh1e2",
        "outputId": "fb547952-93bd-44cb-c2e8-2bd53d41d3a0"
      },
      "execution_count": null,
      "outputs": [
        {
          "output_type": "stream",
          "name": "stdout",
          "text": [
            "extraversion 0.5233644859813085\n",
            "neuroticism 0.59375\n",
            "agreeableness 0.5164835164835165\n",
            "conscientiousness 0.6310679611650486\n",
            "interview 0.5046728971962616\n",
            "openness 0.5666666666666667\n"
          ]
        }
      ]
    },
    {
      "cell_type": "markdown",
      "source": [
        "## Converting master dataset compatible to bert model"
      ],
      "metadata": {
        "id": "PLlxXlUvThj2"
      }
    },
    {
      "cell_type": "code",
      "source": [
        "url=r\"https://raw.githubusercontent.com/suvanbalu/personality-trait-analysis/main/Text-Model/Master_Text.csv\"\n",
        "df = pd.read_csv(url)\n",
        "df.head()"
      ],
      "metadata": {
        "id": "3hvN83CpSjDU"
      },
      "execution_count": null,
      "outputs": []
    },
    {
      "cell_type": "code",
      "source": [],
      "metadata": {
        "id": "sfm1MsJeVIxe"
      },
      "execution_count": null,
      "outputs": []
    }
  ]
}